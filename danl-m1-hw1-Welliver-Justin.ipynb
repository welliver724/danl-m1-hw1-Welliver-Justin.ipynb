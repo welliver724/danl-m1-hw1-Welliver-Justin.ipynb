{
  "nbformat": 4,
  "nbformat_minor": 0,
  "metadata": {
    "colab": {
      "provenance": [],
      "authorship_tag": "ABX9TyPDJwLQ8I8xQ68UB+/jfdK/",
      "include_colab_link": true
    },
    "kernelspec": {
      "name": "python3",
      "display_name": "Python 3"
    },
    "language_info": {
      "name": "python"
    }
  },
  "cells": [
    {
      "cell_type": "markdown",
      "metadata": {
        "id": "view-in-github",
        "colab_type": "text"
      },
      "source": [
        "<a href=\"https://colab.research.google.com/github/welliver724/danl-m1-hw1-Welliver-Justin.ipynb/blob/main/danl-m1-hw1-Welliver-Justin.ipynb\" target=\"_parent\"><img src=\"https://colab.research.google.com/assets/colab-badge.svg\" alt=\"Open In Colab\"/></a>"
      ]
    },
    {
      "cell_type": "code",
      "source": [
        "# HW1 Q1 - How do you assign the value 5 to a variable named 'x'?\n",
        "x=5\n",
        "x"
      ],
      "metadata": {
        "colab": {
          "base_uri": "https://localhost:8080/"
        },
        "id": "PmJjrHWMzwEE",
        "outputId": "1d092971-ba51-44d1-fcf3-b596c3c7d35c"
      },
      "execution_count": 3,
      "outputs": [
        {
          "output_type": "execute_result",
          "data": {
            "text/plain": [
              "5"
            ]
          },
          "metadata": {},
          "execution_count": 3
        }
      ]
    },
    {
      "cell_type": "code",
      "source": [
        "# HW1 Q2 - Given lst = [1,2,3,4,5], what does lst[1:4] return?\n",
        "lst=[1,2,3,4,5]\n",
        "lst[1:4]"
      ],
      "metadata": {
        "colab": {
          "base_uri": "https://localhost:8080/"
        },
        "id": "Dw0uWFFR0Bwl",
        "outputId": "7e5e6b45-e84f-49bf-8990-60507b18553a"
      },
      "execution_count": 6,
      "outputs": [
        {
          "output_type": "execute_result",
          "data": {
            "text/plain": [
              "[2, 3, 4]"
            ]
          },
          "metadata": {},
          "execution_count": 6
        }
      ]
    },
    {
      "cell_type": "code",
      "source": [
        "# HW1 Q3 - How do you create a dictionary with keys \"apple\", \"banana\", and \"cherry\", each with the corresponding values 5, 3, and 7?\n",
        "fruits = {\"apple\": 5,\"banana\": 3,\"cherry\": 7}\n",
        "print(fruits)\n"
      ],
      "metadata": {
        "colab": {
          "base_uri": "https://localhost:8080/"
        },
        "id": "EzI8kmdk1CVQ",
        "outputId": "22dabb14-ab39-49c9-94d1-0d92d98fa927"
      },
      "execution_count": 8,
      "outputs": [
        {
          "output_type": "stream",
          "name": "stdout",
          "text": [
            "{'apple': 5, 'banana': 3, 'cherry': 7}\n"
          ]
        }
      ]
    },
    {
      "cell_type": "code",
      "source": [
        "# How to access the value associated with the key \"banana\"\n",
        "b = fruits[\"banana\"]\n",
        "b"
      ],
      "metadata": {
        "colab": {
          "base_uri": "https://localhost:8080/"
        },
        "id": "hyMA7fuM1058",
        "outputId": "310fd889-96d2-45ca-e859-3fde9276bf90"
      },
      "execution_count": 31,
      "outputs": [
        {
          "output_type": "execute_result",
          "data": {
            "text/plain": [
              "3"
            ]
          },
          "metadata": {},
          "execution_count": 31
        }
      ]
    },
    {
      "cell_type": "code",
      "source": [
        "# HW1 Q4 - The value of the expression below\n",
        "\n",
        "True and False\n",
        "#The 'and' function returns True if both statements are True. Since False is not true, this expression will return False.\n"
      ],
      "metadata": {
        "colab": {
          "base_uri": "https://localhost:8080/"
        },
        "id": "g91eyAot2Mt8",
        "outputId": "9ae97af0-be22-4fc4-eeb6-4086b4cc7e99"
      },
      "execution_count": 16,
      "outputs": [
        {
          "output_type": "execute_result",
          "data": {
            "text/plain": [
              "False"
            ]
          },
          "metadata": {},
          "execution_count": 16
        }
      ]
    },
    {
      "cell_type": "code",
      "source": [
        "True or False\n",
        "#The 'or' function will return True if one of the statements in the expression is True. Since True is True, this expression will return True."
      ],
      "metadata": {
        "colab": {
          "base_uri": "https://localhost:8080/"
        },
        "id": "ZDQqOJP93zmO",
        "outputId": "85a99555-7404-431b-f481-a2c89cf706e1"
      },
      "execution_count": 17,
      "outputs": [
        {
          "output_type": "execute_result",
          "data": {
            "text/plain": [
              "True"
            ]
          },
          "metadata": {},
          "execution_count": 17
        }
      ]
    },
    {
      "cell_type": "code",
      "source": [
        "not (100 == '100' and 25 < 36)\n",
        "# The not function negates the result of the expression inside the parentheses. 100 == '100' is false, because one is a string and the other is an integer. 25 < 36 is true. Since the expression is False, not False is true."
      ],
      "metadata": {
        "colab": {
          "base_uri": "https://localhost:8080/"
        },
        "id": "FMmUXlNy31cE",
        "outputId": "0e82c964-84c4-4d94-d4dc-98b59ade4031"
      },
      "execution_count": 19,
      "outputs": [
        {
          "output_type": "execute_result",
          "data": {
            "text/plain": [
              "True"
            ]
          },
          "metadata": {},
          "execution_count": 19
        }
      ]
    },
    {
      "cell_type": "code",
      "source": [
        "# HW1 Q5 - if-elif-else chain\n",
        "\n",
        "score = 80\n",
        "\n",
        "if score > 90:\n",
        "    print(\"Well done\")\n",
        "elif 40 <= score <= 90:\n",
        "    print(\"Good\")\n",
        "else:\n",
        "    print(\"Bad luck\")\n"
      ],
      "metadata": {
        "colab": {
          "base_uri": "https://localhost:8080/"
        },
        "id": "eUt1A0zj4-bj",
        "outputId": "8b4a4f33-9892-4fee-c568-ca5938222c94"
      },
      "execution_count": 24,
      "outputs": [
        {
          "output_type": "stream",
          "name": "stdout",
          "text": [
            "Good\n"
          ]
        }
      ]
    },
    {
      "cell_type": "code",
      "source": [
        "# HW1 Q6 - Loops\n",
        "loop = \"coding for data analysts\"\n",
        "\n",
        "# Splitting the sentence into words\n",
        "words = loop.split()\n",
        "\n",
        "# Printing each word in a successive iteration\n",
        "for word in words:\n",
        "    print(word)\n"
      ],
      "metadata": {
        "colab": {
          "base_uri": "https://localhost:8080/"
        },
        "id": "56QObfYv58CS",
        "outputId": "195a26ed-d9a5-4391-93aa-c5f1b2e0f7f9"
      },
      "execution_count": 27,
      "outputs": [
        {
          "output_type": "stream",
          "name": "stdout",
          "text": [
            "coding\n",
            "for\n",
            "data\n",
            "analysts\n"
          ]
        }
      ]
    },
    {
      "cell_type": "code",
      "source": [
        "# HW1 Q7 - Importing Math Module in Pyton script.\n",
        "import math\n",
        "\n",
        "#Using the import math square root function\n",
        "a = math.sqrt(16)\n",
        "a"
      ],
      "metadata": {
        "colab": {
          "base_uri": "https://localhost:8080/"
        },
        "id": "ZqjaRcUO6_Pw",
        "outputId": "b3582ea1-d662-47ff-bd8e-ea90a0fc1aec"
      },
      "execution_count": 30,
      "outputs": [
        {
          "output_type": "execute_result",
          "data": {
            "text/plain": [
              "4.0"
            ]
          },
          "metadata": {},
          "execution_count": 30
        }
      ]
    },
    {
      "cell_type": "code",
      "source": [
        "# HW1 Q8 - Basic and Advanced Syntax\n",
        "\n",
        "#Basic Syntax\n",
        "# Name - Justin Welliver\n",
        "# Heading - Homework Assignment #1\n",
        "# Unordered List:\n",
        "# - Apple\n",
        "# - Peach\n",
        "# - Blueberry\n",
        "# Ordered List:\n",
        "# 1. Apple\n",
        "# 2. Peach\n",
        "# 3. Blueberry\n",
        "# Link - [My LinkedIn](https://www.linkedin.com/in/justinwelliver/)\n",
        "# Image - ![My Professional Photo](https://media.licdn.com/dms/image/C4E03AQGqRlWQph2MXA/profile-displayphoto-shrink_200_200/0/1606770618682?e=1713398400&v=beta&t=O_vXWw0Gq7B1NWb10365QgUjkCGxpv4_LCJOH9Hnas0)\n",
        "\n",
        "#Advanced Syntax\n",
        "#Below is a Python Code block example\n",
        "''' score = 80\n",
        "\n",
        "if score > 90:\n",
        "    print(\"Well done\")\n",
        "elif 40 <= score <= 90:\n",
        "    print(\"Good\")\n",
        "else:\n",
        "    print(\"Bad luck\") '''\n",
        "\n",
        "# > \"This is an example of a block quote in puthon. Hello World!\"\n",
        "# This is an emoji: '\\U0001F44D'\n"
      ],
      "metadata": {
        "id": "c0rYnlaf7q1-"
      },
      "execution_count": null,
      "outputs": []
    }
  ]
}